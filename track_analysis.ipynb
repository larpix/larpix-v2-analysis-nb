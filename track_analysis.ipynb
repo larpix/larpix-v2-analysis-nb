{
 "cells": [
  {
   "cell_type": "markdown",
   "metadata": {},
   "source": [
    "# Analysis of fitted tracks\n",
    "Plots many distributions associated with fitted tracks.\n",
    "\n",
    "## Paths\n",
    "Set ``datapath`` to point to the directory which contains ``evd`` files."
   ]
  },
  {
   "cell_type": "code",
   "execution_count": 1,
   "metadata": {
    "jupyter": {
     "source_hidden": true
    }
   },
   "outputs": [],
   "source": [
    "import ipywidgets as widgets\n",
    "import numpy as np\n",
    "import matplotlib.pyplot as plt\n",
    "import os\n",
    "import glob\n",
    "import h5py"
   ]
  },
  {
   "cell_type": "code",
   "execution_count": 2,
   "metadata": {},
   "outputs": [],
   "source": [
    "datapath = os.path.join(os.environ['SCRATCH'],'evd/')\n",
    "# datapath = '/global/project/projectdirs/dune/data/larpix/processed_data/prod_20_10_15/'"
   ]
  },
  {
   "cell_type": "markdown",
   "metadata": {},
   "source": [
    "## Interactive analysis"
   ]
  },
  {
   "cell_type": "code",
   "execution_count": 10,
   "metadata": {},
   "outputs": [
    {
     "data": {
      "application/vnd.jupyter.widget-view+json": {
       "model_id": "fe9188fe6bda43fa8eb6844eaeab6024",
       "version_major": 2,
       "version_minor": 0
      },
      "text/plain": [
       "interactive(children=(Dropdown(description='File', options=('datalog_2020_10_12_16_24_35_PDT_evd.h5', 'datalog…"
      ]
     },
     "metadata": {},
     "output_type": "display_data"
    }
   ],
   "source": [
    "%matplotlib widget\n",
    "files = sorted([os.path.basename(path) for path in glob.glob(datapath+'/*.h5')])\n",
    "@widgets.interact\n",
    "def display(filename=widgets.Dropdown(options=files, description=\"File\"),\n",
    "            nhit_cut=widgets.IntSlider(value=0, min=0, max=100, step=1, description=\"NHit cut\"),\n",
    "            length_cut=widgets.FloatSlider(value=0, min=0, max=440, step=4.4, description=\"Length cut\"),\n",
    "            residual_cut=widgets.FloatSlider(value=300, min=0, max=300, step=3, description=\"Residual cut\"),\n",
    "            theta_cut=widgets.FloatSlider(value=0, min=0, max=np.pi/2, step=0.015, description=\"Theta cut\")\n",
    "           ):\n",
    "    plt.close('all')\n",
    "    f = h5py.File(os.path.join(datapath,filename),'r')\n",
    "    if len(f['tracks']):            \n",
    "        good_track_mask = np.ones(len(f['tracks'])).astype(bool)\n",
    "        good_track_mask = np.logical_and(f['tracks']['nhit'] > nhit_cut, good_track_mask)\n",
    "        good_track_mask = np.logical_and(f['tracks']['length'] > length_cut, good_track_mask)\n",
    "        good_track_mask = np.logical_and(f['tracks']['residual'] < residual_cut, good_track_mask)\n",
    "        good_track_mask = np.logical_and(np.abs(f['tracks']['theta']) > theta_cut, good_track_mask)\n",
    "        good_track_mask = np.logical_and(np.abs(f['tracks']['theta'] - np.pi) > theta_cut, good_track_mask)\n",
    "            \n",
    "        plt.figure('track nhit')\n",
    "        plt.hist(f['tracks']['nhit'],bins=np.linspace(0,100,100),histtype='step')\n",
    "        plt.hist(f['tracks']['nhit'][good_track_mask],bins=np.linspace(0,100,100),histtype='step')\n",
    "        plt.xlabel('nhit')\n",
    "        plt.legend(('all tracks','selected tracks'))\n",
    "        \n",
    "        plt.figure('track length')\n",
    "        plt.hist(f['tracks']['length'],bins=np.linspace(0,440,100),histtype='step')\n",
    "        plt.hist(f['tracks']['length'][good_track_mask],bins=np.linspace(0,440,100),histtype='step')\n",
    "        plt.xlabel('track length [mm]')\n",
    "        plt.legend(('all tracks','selected tracks'))\n",
    "        \n",
    "        plt.figure('track theta')\n",
    "        plt.hist(f['tracks']['theta'],bins=np.linspace(0,np.pi,100),histtype='step')\n",
    "        plt.hist(f['tracks']['theta'][good_track_mask],bins=np.linspace(0,np.pi,100),histtype='step')\n",
    "        plt.xlabel('track theta [rad.]')\n",
    "        plt.legend(('all tracks','selected tracks'))\n",
    "        \n",
    "        plt.figure('track phi')\n",
    "        plt.hist(f['tracks']['phi'],bins=np.linspace(-np.pi,np.pi,100),histtype='step')\n",
    "        plt.hist(f['tracks']['phi'][good_track_mask],bins=np.linspace(-np.pi,np.pi,100),histtype='step')\n",
    "        plt.xlabel('track phi [rad.]')\n",
    "        plt.legend(('all tracks','selected tracks'))\n",
    "        \n",
    "        plt.figure('track res')\n",
    "        plt.hist(f['tracks']['residual'],bins=np.linspace(0,100,100),histtype='step')\n",
    "        plt.hist(f['tracks']['residual'][good_track_mask],bins=np.linspace(0,100,100),histtype='step')\n",
    "        plt.xlabel('track residual [mm]')\n",
    "        plt.legend(('all tracks','selected tracks'))\n",
    "        \n",
    "        plt.figure('track q')\n",
    "        plt.hist(f['tracks']['q'],bins=np.linspace(0,5e3,100),histtype='step')\n",
    "        plt.hist(f['tracks']['q'][good_track_mask],bins=np.linspace(0,5e3,100),histtype='step')\n",
    "        plt.xlabel('track q [ke]')\n",
    "        plt.legend(('all tracks','selected tracks'))\n",
    "        \n",
    "        plt.figure('track dQ/dx')\n",
    "        dqdx = f['tracks']['q']/f['tracks']['length']\n",
    "        plt.hist(dqdx,bins=np.linspace(0,30,100),histtype='step')\n",
    "        plt.hist(dqdx[good_track_mask],bins=np.linspace(0,30,100),histtype='step')\n",
    "        plt.xlabel('track mean dQ/dx [ke/mm]')\n",
    "        plt.legend(('all tracks','selected tracks'))\n",
    "        \n",
    "#         good_track_mask = np.ones(len(f['tracks'])).astype(bool)\n",
    "        \n",
    "        plt.figure('track dQ/dx v. theta')\n",
    "        plt.hist2d(dqdx[good_track_mask],f['tracks']['theta'][good_track_mask],bins=(np.linspace(0,30,100),np.linspace(0,np.pi,100)))\n",
    "        plt.colorbar()\n",
    "        plt.xlabel('track mean dQ/dx [ke/mm]')\n",
    "        plt.ylabel('track theta [rad.]')\n",
    "        \n",
    "        plt.figure('track dQ/dx v. phi')\n",
    "        plt.hist2d(dqdx[good_track_mask],f['tracks']['phi'][good_track_mask],bins=(np.linspace(0,30,100),np.linspace(-np.pi,np.pi,100)))\n",
    "        plt.colorbar()\n",
    "        plt.xlabel('track mean dQ/dx [ke/mm]')\n",
    "        plt.ylabel('track phi [rad.]')\n",
    "        \n",
    "        plt.figure('track dQ/dx v. residual')\n",
    "        plt.hist2d(dqdx[good_track_mask],f['tracks']['residual'][good_track_mask],bins=(np.linspace(0,30,100),np.linspace(0,25,100)))\n",
    "        plt.colorbar()\n",
    "        plt.xlabel('track mean dQ/dx [ke/mm]')\n",
    "        plt.ylabel('track residual [mm]')\n",
    "        \n",
    "        plt.figure('track residual v. theta')\n",
    "        plt.hist2d(f['tracks']['residual'][good_track_mask],f['tracks']['theta'][good_track_mask],bins=(np.linspace(0,25,100),np.linspace(0,np.pi,100)))\n",
    "        plt.colorbar()\n",
    "        plt.xlabel('track residual [mm]')\n",
    "        plt.ylabel('track theta [rad.]')\n",
    "        \n",
    "        plt.figure('track length v. theta')\n",
    "        plt.hist2d(f['tracks']['length'][good_track_mask],f['tracks']['theta'][good_track_mask],bins=(np.linspace(0,440,100),np.linspace(0,np.pi,100)))\n",
    "        plt.colorbar()\n",
    "        plt.xlabel('track length [mm]')\n",
    "        plt.ylabel('track theta [rad.]')\n",
    "    else:\n",
    "        print('no events in file')"
   ]
  },
  {
   "cell_type": "code",
   "execution_count": null,
   "metadata": {},
   "outputs": [],
   "source": []
  }
 ],
 "metadata": {
  "kernelspec": {
   "display_name": "MyEnv",
   "language": "python",
   "name": "myenv"
  },
  "language_info": {
   "codemirror_mode": {
    "name": "ipython",
    "version": 3
   },
   "file_extension": ".py",
   "mimetype": "text/x-python",
   "name": "python",
   "nbconvert_exporter": "python",
   "pygments_lexer": "ipython3",
   "version": "3.7.9"
  }
 },
 "nbformat": 4,
 "nbformat_minor": 4
}
